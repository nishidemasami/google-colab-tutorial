{
  "nbformat": 4,
  "nbformat_minor": 0,
  "metadata": {
    "colab": {
      "provenance": []
    },
    "kernelspec": {
      "name": "python3",
      "display_name": "Python 3"
    },
    "language_info": {
      "name": "python"
    },
    "widgets": {
      "application/vnd.jupyter.widget-state+json": {
        "744b2fb0a4e24e6eb28987fe719c71b0": {
          "model_module": "@jupyter-widgets/controls",
          "model_name": "PasswordModel",
          "model_module_version": "1.5.0",
          "state": {
            "_dom_classes": [],
            "_model_module": "@jupyter-widgets/controls",
            "_model_module_version": "1.5.0",
            "_model_name": "PasswordModel",
            "_view_count": null,
            "_view_module": "@jupyter-widgets/controls",
            "_view_module_version": "1.5.0",
            "_view_name": "PasswordView",
            "continuous_update": true,
            "description": "",
            "description_tooltip": null,
            "disabled": false,
            "layout": "IPY_MODEL_498dfba0b0784a7eb0a9be01afeb9a77",
            "placeholder": "パスワードを入力",
            "style": "IPY_MODEL_18042c1a81954bd1be40d0c42e984538",
            "value": ""
          }
        },
        "498dfba0b0784a7eb0a9be01afeb9a77": {
          "model_module": "@jupyter-widgets/base",
          "model_name": "LayoutModel",
          "model_module_version": "1.2.0",
          "state": {
            "_model_module": "@jupyter-widgets/base",
            "_model_module_version": "1.2.0",
            "_model_name": "LayoutModel",
            "_view_count": null,
            "_view_module": "@jupyter-widgets/base",
            "_view_module_version": "1.2.0",
            "_view_name": "LayoutView",
            "align_content": null,
            "align_items": null,
            "align_self": null,
            "border": null,
            "bottom": null,
            "display": null,
            "flex": null,
            "flex_flow": null,
            "grid_area": null,
            "grid_auto_columns": null,
            "grid_auto_flow": null,
            "grid_auto_rows": null,
            "grid_column": null,
            "grid_gap": null,
            "grid_row": null,
            "grid_template_areas": null,
            "grid_template_columns": null,
            "grid_template_rows": null,
            "height": null,
            "justify_content": null,
            "justify_items": null,
            "left": null,
            "margin": null,
            "max_height": null,
            "max_width": null,
            "min_height": null,
            "min_width": null,
            "object_fit": null,
            "object_position": null,
            "order": null,
            "overflow": null,
            "overflow_x": null,
            "overflow_y": null,
            "padding": null,
            "right": null,
            "top": null,
            "visibility": null,
            "width": null
          }
        },
        "18042c1a81954bd1be40d0c42e984538": {
          "model_module": "@jupyter-widgets/controls",
          "model_name": "DescriptionStyleModel",
          "model_module_version": "1.5.0",
          "state": {
            "_model_module": "@jupyter-widgets/controls",
            "_model_module_version": "1.5.0",
            "_model_name": "DescriptionStyleModel",
            "_view_count": null,
            "_view_module": "@jupyter-widgets/base",
            "_view_module_version": "1.2.0",
            "_view_name": "StyleView",
            "description_width": ""
          }
        },
        "4e8c682868c44fdc980bba595292d669": {
          "model_module": "@jupyter-widgets/controls",
          "model_name": "TextModel",
          "model_module_version": "1.5.0",
          "state": {
            "_dom_classes": [],
            "_model_module": "@jupyter-widgets/controls",
            "_model_module_version": "1.5.0",
            "_model_name": "TextModel",
            "_view_count": null,
            "_view_module": "@jupyter-widgets/controls",
            "_view_module_version": "1.5.0",
            "_view_name": "TextView",
            "continuous_update": true,
            "description": "",
            "description_tooltip": null,
            "disabled": false,
            "layout": "IPY_MODEL_425b8879eb3543928e58a5c4b9cf5b99",
            "placeholder": "​",
            "style": "IPY_MODEL_fc03fb21b60c4436a749824b6c31be3c",
            "value": "3I;*'Ne|D25.TVF[L|uC@g0~]N=Lt~i[ w1mN^U>N7%U}\\2fSj=Icb~x^I,HpMRW,R;&fPw{kv>#QgO.+1qDUh+Y**x#Ec3BaOoKoYy^?<O:dQhdB:o=Y+3`xf0]_YCY"
          }
        },
        "425b8879eb3543928e58a5c4b9cf5b99": {
          "model_module": "@jupyter-widgets/base",
          "model_name": "LayoutModel",
          "model_module_version": "1.2.0",
          "state": {
            "_model_module": "@jupyter-widgets/base",
            "_model_module_version": "1.2.0",
            "_model_name": "LayoutModel",
            "_view_count": null,
            "_view_module": "@jupyter-widgets/base",
            "_view_module_version": "1.2.0",
            "_view_name": "LayoutView",
            "align_content": null,
            "align_items": null,
            "align_self": null,
            "border": null,
            "bottom": null,
            "display": null,
            "flex": null,
            "flex_flow": null,
            "grid_area": null,
            "grid_auto_columns": null,
            "grid_auto_flow": null,
            "grid_auto_rows": null,
            "grid_column": null,
            "grid_gap": null,
            "grid_row": null,
            "grid_template_areas": null,
            "grid_template_columns": null,
            "grid_template_rows": null,
            "height": null,
            "justify_content": null,
            "justify_items": null,
            "left": null,
            "margin": null,
            "max_height": null,
            "max_width": null,
            "min_height": null,
            "min_width": null,
            "object_fit": null,
            "object_position": null,
            "order": null,
            "overflow": null,
            "overflow_x": null,
            "overflow_y": null,
            "padding": null,
            "right": null,
            "top": null,
            "visibility": null,
            "width": null
          }
        },
        "fc03fb21b60c4436a749824b6c31be3c": {
          "model_module": "@jupyter-widgets/controls",
          "model_name": "DescriptionStyleModel",
          "model_module_version": "1.5.0",
          "state": {
            "_model_module": "@jupyter-widgets/controls",
            "_model_module_version": "1.5.0",
            "_model_name": "DescriptionStyleModel",
            "_view_count": null,
            "_view_module": "@jupyter-widgets/base",
            "_view_module_version": "1.2.0",
            "_view_name": "StyleView",
            "description_width": ""
          }
        }
      }
    }
  },
  "cells": [
    {
      "cell_type": "markdown",
      "source": [
        "# **パスワード生成くん**"
      ],
      "metadata": {
        "id": "h0nA_5plLy7Y"
      }
    },
    {
      "cell_type": "markdown",
      "source": [
        "## **使用できるアルゴリズム一覧を取得する**"
      ],
      "metadata": {
        "id": "7NZBUNT2Lz9Z"
      }
    },
    {
      "cell_type": "code",
      "source": [
        "import hashlib\n",
        "\n",
        "print(sorted(hashlib.algorithms_guaranteed))"
      ],
      "metadata": {
        "colab": {
          "base_uri": "https://localhost:8080/"
        },
        "id": "njXMI2JVkf0p",
        "outputId": "2b36d3a1-d8c0-4d31-80ea-018d0031343b"
      },
      "execution_count": null,
      "outputs": [
        {
          "output_type": "stream",
          "name": "stdout",
          "text": [
            "['blake2b', 'blake2s', 'md5', 'sha1', 'sha224', 'sha256', 'sha384', 'sha3_224', 'sha3_256', 'sha3_384', 'sha3_512', 'sha512', 'shake_128', 'shake_256']\n"
          ]
        }
      ]
    },
    {
      "cell_type": "markdown",
      "source": [
        "# **パスワードを生成する元となる文字列を入力するテキストボックスを表示する**"
      ],
      "metadata": {
        "id": "hhuyg1DLj8SH"
      }
    },
    {
      "cell_type": "code",
      "source": [
        "import ipywidgets as widgets\n",
        "password_input = widgets.Password(value = '', placeholder='パスワードを入力')\n",
        "print(\"パスワードを生成する元となる文字列を入力するテキストボックス\")\n",
        "display(password_input)"
      ],
      "metadata": {
        "colab": {
          "base_uri": "https://localhost:8080/",
          "height": 66,
          "referenced_widgets": [
            "744b2fb0a4e24e6eb28987fe719c71b0",
            "498dfba0b0784a7eb0a9be01afeb9a77",
            "18042c1a81954bd1be40d0c42e984538"
          ]
        },
        "id": "3EbWkKxXk6Gh",
        "outputId": "94100847-9d0d-4e02-aa71-2c8596171eeb"
      },
      "execution_count": null,
      "outputs": [
        {
          "output_type": "stream",
          "name": "stdout",
          "text": [
            "パスワードを生成する元となる文字列を入力するテキストボックス\n"
          ]
        },
        {
          "output_type": "display_data",
          "data": {
            "text/plain": [
              "Password(placeholder='パスワードを入力')"
            ],
            "application/vnd.jupyter.widget-view+json": {
              "version_major": 2,
              "version_minor": 0,
              "model_id": "744b2fb0a4e24e6eb28987fe719c71b0"
            }
          },
          "metadata": {}
        }
      ]
    },
    {
      "cell_type": "markdown",
      "source": [
        "# **生成したパスワードを表示する**"
      ],
      "metadata": {
        "id": "P_mlncn-kXL3"
      }
    },
    {
      "cell_type": "code",
      "source": [
        "import hashlib\n",
        "import ipywidgets as widgets\n",
        "\n",
        "gfg = hashlib.shake_256(password_input.value.encode(\"utf-8\"))\n",
        "bighex = gfg.hexdigest(128)\n",
        "bigint = int(bighex, 16)\n",
        "\n",
        "def Dec_to_N(num, base):\n",
        "    if  num >= base:\n",
        "        yield from Dec_to_N(num // base, base)\n",
        "    yield chr((num % base)+32)\n",
        "\n",
        "digits = list(Dec_to_N(bigint, 95))\n",
        "password_output = widgets.Text(value = \"\".join(digits[-128:]))\n",
        "print(\"パスワード\")\n",
        "display(password_output)"
      ],
      "metadata": {
        "colab": {
          "base_uri": "https://localhost:8080/",
          "height": 66,
          "referenced_widgets": [
            "4e8c682868c44fdc980bba595292d669",
            "425b8879eb3543928e58a5c4b9cf5b99",
            "fc03fb21b60c4436a749824b6c31be3c"
          ]
        },
        "id": "ZNJeLbF_l8xI",
        "outputId": "fb9aab12-cfe1-40c2-f249-663383d28a8d"
      },
      "execution_count": null,
      "outputs": [
        {
          "output_type": "stream",
          "name": "stdout",
          "text": [
            "パスワード\n"
          ]
        },
        {
          "output_type": "display_data",
          "data": {
            "text/plain": [
              "Text(value=\"3I;*'Ne|D25.TVF[L|uC@g0~]N=Lt~i[ w1mN^U>N7%U}\\\\2fSj=Icb~x^I,HpMRW,R;&fPw{kv>#QgO.+1qDUh+Y**x#Ec3Ba…"
            ],
            "application/vnd.jupyter.widget-view+json": {
              "version_major": 2,
              "version_minor": 0,
              "model_id": "4e8c682868c44fdc980bba595292d669"
            }
          },
          "metadata": {}
        }
      ]
    }
  ]
}
